{
 "cells": [
  {
   "attachments": {},
   "cell_type": "markdown",
   "metadata": {},
   "source": [
    "# Entrega 27\n",
    "\n",
    "Buscar información en APIs públicas (i.e Twitter, NewsAPI, Spotify, Google Apis, etc).\n",
    "Extraer datos e importarlos a un dataframe realizando una exploración simple (i.e filas, columnas, tipos de datos). Se sugiere que estos datos complementen el dataset elegido en el Desafio “Elección de potenciales Datasets e importe con la librería Pandas”\n"
   ]
  },
  {
   "cell_type": "code",
   "execution_count": 3,
   "metadata": {},
   "outputs": [],
   "source": [
    "#Importaciones\n",
    "import warnings\n",
    "warnings.filterwarnings('ignore')\n",
    "import pandas as pd\n",
    "import json\n",
    "import requests"
   ]
  },
  {
   "cell_type": "code",
   "execution_count": 5,
   "metadata": {},
   "outputs": [
    {
     "name": "stdout",
     "output_type": "stream",
     "text": [
      "{\"football\":[{\"stadium\":\"National Stadium - King Fahd International Stadium\",\"country\":\"Saudi Arabia\",\"region\":\"\",\"tournament\":\"Spanish Super Cup\",\"start\":\"2023-01-12 19:00\",\"match\":\"Real Betis vs Barcelona\"},{\"stadium\":\"Roma\",\"country\":\"Italy\",\"region\":\"\",\"tournament\":\"Coppa Italia\",\"start\":\"2023-01-12 20:00\",\"match\":\"Roma vs Genoa\"},{\"stadium\":\"Napoli\",\"country\":\"Italy\",\"region\":\"\",\"tournament\":\"Italian Serie A\",\"start\":\"2023-01-13 19:45\",\"match\":\"Napoli vs Juventus\"},{\"stadium\":\"Kvc Westerlo\",\"country\":\"Belgium\",\"region\":\"\",\"tournament\":\"Belgian First Division A\",\"start\":\"2023-01-13 19:45\",\"match\":\"Westerlo vs Oud-Heverlee Leuven\"},{\"stadium\":\"Celta Vigo\",\"country\":\"Spain\",\"region\":\"\",\"tournament\":\"Spanish La Liga\",\"start\":\"2023-01-13 20:00\",\"match\":\"Celta Vigo vs Villarreal\"},{\"stadium\":\"Portimonense\",\"country\":\"Portugal\",\"region\":\"\",\"tournament\":\"Portuguese Primeira Liga\",\"start\":\"2023-01-13 20:15\",\"match\":\"Portimonense vs Santa Clara\"},{\"stadium\":\"Real Valladolid\",\"country\":\"Spain\",\"region\":\"\",\"tournament\":\"Spanish La Liga\",\"start\":\"2023-01-14 13:00\",\"match\":\"Real Valladolid vs Rayo Vallecano\"},{\"stadium\":\"Accrington Stanley\",\"country\":\"United Kingdom\",\"region\":\"\",\"tournament\":\"Sky Bet League One\",\"start\":\"2023-01-14 15:00\",\"match\":\"Accrington Stanley vs Bristol Rovers\"},{\"stadium\":\"Bolton Wanderers\",\"country\":\"United Kingdom\",\"region\":\"\",\"tournament\":\"Sky Bet League One\",\"start\":\"2023-01-14 15:00\",\"match\":\"Bolton Wanderers vs Portsmouth\"},{\"stadium\":\"Burton Albion\",\"country\":\"United Kingdom\",\"region\":\"\",\"tournament\":\"Sky Bet League One\",\"start\":\"2023-01-14 15:00\",\"match\":\"Burton Albion vs Shrewsbury Town\"}],\"cricket\":[{\"stadium\":\"National Stadium, Karachi\",\"country\":\"Pakistan\",\"region\":\"\",\"tournament\":\"Pakistan v New Zealand ODI Series 2022/23\",\"start\":\"2023-01-13 09:30\",\"match\":\"Pakistan v New Zealand\"}],\"golf\":[{\"stadium\":\"Waialae Country Club,Hawaii\",\"country\":\"United States of America\",\"region\":\"\",\"tournament\":\"Sony Open in Hawaii Round 1\",\"start\":\"2023-01-12 18:30\",\"match\":\"M.J. Daffue, Vincent Norrman, Kevin Yu\"},{\"stadium\":\"Waialae Country Club,Hawaii\",\"country\":\"United States of America\",\"region\":\"\",\"tournament\":\"Sony Open in Hawaii Round 1\",\"start\":\"2023-01-12 18:30\",\"match\":\"Eric Cole, Matthias Schmid, Justin Suh\"},{\"stadium\":\"Waialae Country Club,Hawaii\",\"country\":\"United States of America\",\"region\":\"\",\"tournament\":\"Sony Open in Hawaii Round 1\",\"start\":\"2023-01-12 18:40\",\"match\":\"Trevor Cone, Kohei Okada, Kevin Roy\"},{\"stadium\":\"Waialae Country Club,Hawaii\",\"country\":\"United States of America\",\"region\":\"\",\"tournament\":\"Sony Open in Hawaii Round 1\",\"start\":\"2023-01-12 18:40\",\"match\":\"Erik Barnes, Cole Hammer, Samuel Stevens\"},{\"stadium\":\"Waialae Country Club,Hawaii\",\"country\":\"United States of America\",\"region\":\"\",\"tournament\":\"Sony Open in Hawaii Round 1\",\"start\":\"2023-01-12 18:50\",\"match\":\"Danny Guise, Dylan Wu, Carson Young\"},{\"stadium\":\"Waialae Country Club,Hawaii\",\"country\":\"United States of America\",\"region\":\"\",\"tournament\":\"Sony Open in Hawaii Round 1\",\"start\":\"2023-01-12 18:50\",\"match\":\"Tano Goya, Kaito Onishi, Davis Thompson\"},{\"stadium\":\"Waialae Country Club,Hawaii\",\"country\":\"United States of America\",\"region\":\"\",\"tournament\":\"Sony Open in Hawaii Round 1\",\"start\":\"2023-01-12 19:00\",\"match\":\"Harry Hall, Yuto Katsuragawa, Kyle Westmoreland\"},{\"stadium\":\"Waialae Country Club,Hawaii\",\"country\":\"United States of America\",\"region\":\"\",\"tournament\":\"Sony Open in Hawaii Round 1\",\"start\":\"2023-01-12 19:00\",\"match\":\"Paul Haley II, Austen Truslow, Trevor Werbylo\"},{\"stadium\":\"Waialae Country Club,Hawaii\",\"country\":\"United States of America\",\"region\":\"\",\"tournament\":\"Sony Open in Hawaii Round 1\",\"start\":\"2023-01-12 21:50\",\"match\":\"Kurt Kitayama, Peter Malnati, Denny McCarthy\"},{\"stadium\":\"Waialae Country Club,Hawaii\",\"country\":\"United States of America\",\"region\":\"\",\"tournament\":\"Sony Open in Hawaii Round 1\",\"start\":\"2023-01-12 21:50\",\"match\":\"Aaron Baddeley, Brian Stuard, Kevin Tway\"}]}\n"
     ]
    },
    {
     "data": {
      "text/plain": [
       "200"
      ]
     },
     "execution_count": 5,
     "metadata": {},
     "output_type": "execute_result"
    }
   ],
   "source": [
    "# Leemos API\n",
    "\n",
    "url = \"https://weatherapi-com.p.rapidapi.com/sports.json\"\n",
    "\n",
    "querystring = {\"q\":\"London\"}\n",
    "\n",
    "headers = {\n",
    "\t\"X-RapidAPI-Key\": \"8c8270fc85msh6d438e81d75689ep1345d2jsn7a8f6fb88ca7\",\n",
    "\t\"X-RapidAPI-Host\": \"weatherapi-com.p.rapidapi.com\"\n",
    "}\n",
    "\n",
    "response = requests.request(\"GET\", url, headers=headers, params=querystring)\n",
    "\n",
    "print(response.text)\n",
    "\n",
    "response.status_code"
   ]
  },
  {
   "cell_type": "code",
   "execution_count": 6,
   "metadata": {},
   "outputs": [
    {
     "data": {
      "text/plain": [
       "dict_keys(['football', 'cricket', 'golf'])"
      ]
     },
     "execution_count": 6,
     "metadata": {},
     "output_type": "execute_result"
    }
   ],
   "source": [
    "data = json.loads(response.text)\n",
    "data.keys()"
   ]
  },
  {
   "cell_type": "code",
   "execution_count": 7,
   "metadata": {},
   "outputs": [
    {
     "data": {
      "text/plain": [
       "[{'stadium': 'National Stadium - King Fahd International Stadium',\n",
       "  'country': 'Saudi Arabia',\n",
       "  'region': '',\n",
       "  'tournament': 'Spanish Super Cup',\n",
       "  'start': '2023-01-12 19:00',\n",
       "  'match': 'Real Betis vs Barcelona'},\n",
       " {'stadium': 'Roma',\n",
       "  'country': 'Italy',\n",
       "  'region': '',\n",
       "  'tournament': 'Coppa Italia',\n",
       "  'start': '2023-01-12 20:00',\n",
       "  'match': 'Roma vs Genoa'},\n",
       " {'stadium': 'Napoli',\n",
       "  'country': 'Italy',\n",
       "  'region': '',\n",
       "  'tournament': 'Italian Serie A',\n",
       "  'start': '2023-01-13 19:45',\n",
       "  'match': 'Napoli vs Juventus'},\n",
       " {'stadium': 'Kvc Westerlo',\n",
       "  'country': 'Belgium',\n",
       "  'region': '',\n",
       "  'tournament': 'Belgian First Division A',\n",
       "  'start': '2023-01-13 19:45',\n",
       "  'match': 'Westerlo vs Oud-Heverlee Leuven'},\n",
       " {'stadium': 'Celta Vigo',\n",
       "  'country': 'Spain',\n",
       "  'region': '',\n",
       "  'tournament': 'Spanish La Liga',\n",
       "  'start': '2023-01-13 20:00',\n",
       "  'match': 'Celta Vigo vs Villarreal'},\n",
       " {'stadium': 'Portimonense',\n",
       "  'country': 'Portugal',\n",
       "  'region': '',\n",
       "  'tournament': 'Portuguese Primeira Liga',\n",
       "  'start': '2023-01-13 20:15',\n",
       "  'match': 'Portimonense vs Santa Clara'},\n",
       " {'stadium': 'Real Valladolid',\n",
       "  'country': 'Spain',\n",
       "  'region': '',\n",
       "  'tournament': 'Spanish La Liga',\n",
       "  'start': '2023-01-14 13:00',\n",
       "  'match': 'Real Valladolid vs Rayo Vallecano'},\n",
       " {'stadium': 'Accrington Stanley',\n",
       "  'country': 'United Kingdom',\n",
       "  'region': '',\n",
       "  'tournament': 'Sky Bet League One',\n",
       "  'start': '2023-01-14 15:00',\n",
       "  'match': 'Accrington Stanley vs Bristol Rovers'},\n",
       " {'stadium': 'Bolton Wanderers',\n",
       "  'country': 'United Kingdom',\n",
       "  'region': '',\n",
       "  'tournament': 'Sky Bet League One',\n",
       "  'start': '2023-01-14 15:00',\n",
       "  'match': 'Bolton Wanderers vs Portsmouth'},\n",
       " {'stadium': 'Burton Albion',\n",
       "  'country': 'United Kingdom',\n",
       "  'region': '',\n",
       "  'tournament': 'Sky Bet League One',\n",
       "  'start': '2023-01-14 15:00',\n",
       "  'match': 'Burton Albion vs Shrewsbury Town'}]"
      ]
     },
     "execution_count": 7,
     "metadata": {},
     "output_type": "execute_result"
    }
   ],
   "source": [
    "data['football']"
   ]
  },
  {
   "cell_type": "code",
   "execution_count": 10,
   "metadata": {},
   "outputs": [
    {
     "data": {
      "text/html": [
       "<div>\n",
       "<style scoped>\n",
       "    .dataframe tbody tr th:only-of-type {\n",
       "        vertical-align: middle;\n",
       "    }\n",
       "\n",
       "    .dataframe tbody tr th {\n",
       "        vertical-align: top;\n",
       "    }\n",
       "\n",
       "    .dataframe thead th {\n",
       "        text-align: right;\n",
       "    }\n",
       "</style>\n",
       "<table border=\"1\" class=\"dataframe\">\n",
       "  <thead>\n",
       "    <tr style=\"text-align: right;\">\n",
       "      <th></th>\n",
       "      <th>stadium</th>\n",
       "      <th>country</th>\n",
       "      <th>region</th>\n",
       "      <th>tournament</th>\n",
       "      <th>start</th>\n",
       "      <th>match</th>\n",
       "    </tr>\n",
       "  </thead>\n",
       "  <tbody>\n",
       "    <tr>\n",
       "      <th>0</th>\n",
       "      <td>National Stadium - King Fahd International Sta...</td>\n",
       "      <td>Saudi Arabia</td>\n",
       "      <td></td>\n",
       "      <td>Spanish Super Cup</td>\n",
       "      <td>2023-01-12 19:00</td>\n",
       "      <td>Real Betis vs Barcelona</td>\n",
       "    </tr>\n",
       "    <tr>\n",
       "      <th>1</th>\n",
       "      <td>Roma</td>\n",
       "      <td>Italy</td>\n",
       "      <td></td>\n",
       "      <td>Coppa Italia</td>\n",
       "      <td>2023-01-12 20:00</td>\n",
       "      <td>Roma vs Genoa</td>\n",
       "    </tr>\n",
       "    <tr>\n",
       "      <th>2</th>\n",
       "      <td>Napoli</td>\n",
       "      <td>Italy</td>\n",
       "      <td></td>\n",
       "      <td>Italian Serie A</td>\n",
       "      <td>2023-01-13 19:45</td>\n",
       "      <td>Napoli vs Juventus</td>\n",
       "    </tr>\n",
       "    <tr>\n",
       "      <th>3</th>\n",
       "      <td>Kvc Westerlo</td>\n",
       "      <td>Belgium</td>\n",
       "      <td></td>\n",
       "      <td>Belgian First Division A</td>\n",
       "      <td>2023-01-13 19:45</td>\n",
       "      <td>Westerlo vs Oud-Heverlee Leuven</td>\n",
       "    </tr>\n",
       "    <tr>\n",
       "      <th>4</th>\n",
       "      <td>Celta Vigo</td>\n",
       "      <td>Spain</td>\n",
       "      <td></td>\n",
       "      <td>Spanish La Liga</td>\n",
       "      <td>2023-01-13 20:00</td>\n",
       "      <td>Celta Vigo vs Villarreal</td>\n",
       "    </tr>\n",
       "    <tr>\n",
       "      <th>5</th>\n",
       "      <td>Portimonense</td>\n",
       "      <td>Portugal</td>\n",
       "      <td></td>\n",
       "      <td>Portuguese Primeira Liga</td>\n",
       "      <td>2023-01-13 20:15</td>\n",
       "      <td>Portimonense vs Santa Clara</td>\n",
       "    </tr>\n",
       "    <tr>\n",
       "      <th>6</th>\n",
       "      <td>Real Valladolid</td>\n",
       "      <td>Spain</td>\n",
       "      <td></td>\n",
       "      <td>Spanish La Liga</td>\n",
       "      <td>2023-01-14 13:00</td>\n",
       "      <td>Real Valladolid vs Rayo Vallecano</td>\n",
       "    </tr>\n",
       "    <tr>\n",
       "      <th>7</th>\n",
       "      <td>Accrington Stanley</td>\n",
       "      <td>United Kingdom</td>\n",
       "      <td></td>\n",
       "      <td>Sky Bet League One</td>\n",
       "      <td>2023-01-14 15:00</td>\n",
       "      <td>Accrington Stanley vs Bristol Rovers</td>\n",
       "    </tr>\n",
       "    <tr>\n",
       "      <th>8</th>\n",
       "      <td>Bolton Wanderers</td>\n",
       "      <td>United Kingdom</td>\n",
       "      <td></td>\n",
       "      <td>Sky Bet League One</td>\n",
       "      <td>2023-01-14 15:00</td>\n",
       "      <td>Bolton Wanderers vs Portsmouth</td>\n",
       "    </tr>\n",
       "    <tr>\n",
       "      <th>9</th>\n",
       "      <td>Burton Albion</td>\n",
       "      <td>United Kingdom</td>\n",
       "      <td></td>\n",
       "      <td>Sky Bet League One</td>\n",
       "      <td>2023-01-14 15:00</td>\n",
       "      <td>Burton Albion vs Shrewsbury Town</td>\n",
       "    </tr>\n",
       "  </tbody>\n",
       "</table>\n",
       "</div>"
      ],
      "text/plain": [
       "                                             stadium         country region  \\\n",
       "0  National Stadium - King Fahd International Sta...    Saudi Arabia          \n",
       "1                                               Roma           Italy          \n",
       "2                                             Napoli           Italy          \n",
       "3                                       Kvc Westerlo         Belgium          \n",
       "4                                         Celta Vigo           Spain          \n",
       "5                                       Portimonense        Portugal          \n",
       "6                                    Real Valladolid           Spain          \n",
       "7                                 Accrington Stanley  United Kingdom          \n",
       "8                                   Bolton Wanderers  United Kingdom          \n",
       "9                                      Burton Albion  United Kingdom          \n",
       "\n",
       "                 tournament             start  \\\n",
       "0         Spanish Super Cup  2023-01-12 19:00   \n",
       "1              Coppa Italia  2023-01-12 20:00   \n",
       "2           Italian Serie A  2023-01-13 19:45   \n",
       "3  Belgian First Division A  2023-01-13 19:45   \n",
       "4           Spanish La Liga  2023-01-13 20:00   \n",
       "5  Portuguese Primeira Liga  2023-01-13 20:15   \n",
       "6           Spanish La Liga  2023-01-14 13:00   \n",
       "7        Sky Bet League One  2023-01-14 15:00   \n",
       "8        Sky Bet League One  2023-01-14 15:00   \n",
       "9        Sky Bet League One  2023-01-14 15:00   \n",
       "\n",
       "                                  match  \n",
       "0               Real Betis vs Barcelona  \n",
       "1                         Roma vs Genoa  \n",
       "2                    Napoli vs Juventus  \n",
       "3       Westerlo vs Oud-Heverlee Leuven  \n",
       "4              Celta Vigo vs Villarreal  \n",
       "5           Portimonense vs Santa Clara  \n",
       "6     Real Valladolid vs Rayo Vallecano  \n",
       "7  Accrington Stanley vs Bristol Rovers  \n",
       "8        Bolton Wanderers vs Portsmouth  \n",
       "9      Burton Albion vs Shrewsbury Town  "
      ]
     },
     "execution_count": 10,
     "metadata": {},
     "output_type": "execute_result"
    }
   ],
   "source": [
    "df = pd.DataFrame(data['football'])\n",
    "display(df)"
   ]
  },
  {
   "cell_type": "code",
   "execution_count": 11,
   "metadata": {},
   "outputs": [
    {
     "name": "stdout",
     "output_type": "stream",
     "text": [
      "<class 'pandas.core.frame.DataFrame'>\n",
      "RangeIndex: 10 entries, 0 to 9\n",
      "Data columns (total 6 columns):\n",
      " #   Column      Non-Null Count  Dtype \n",
      "---  ------      --------------  ----- \n",
      " 0   stadium     10 non-null     object\n",
      " 1   country     10 non-null     object\n",
      " 2   region      10 non-null     object\n",
      " 3   tournament  10 non-null     object\n",
      " 4   start       10 non-null     object\n",
      " 5   match       10 non-null     object\n",
      "dtypes: object(6)\n",
      "memory usage: 608.0+ bytes\n"
     ]
    }
   ],
   "source": [
    "df.info()"
   ]
  },
  {
   "attachments": {},
   "cell_type": "markdown",
   "metadata": {},
   "source": [
    "## Conclusión\n",
    "\n",
    "Tenemos un data frame generado desde el json hecho en la request que tiene 10 tuplas sin datos nulos."
   ]
  }
 ],
 "metadata": {
  "kernelspec": {
   "display_name": "Python 3",
   "language": "python",
   "name": "python3"
  },
  "language_info": {
   "codemirror_mode": {
    "name": "ipython",
    "version": 3
   },
   "file_extension": ".py",
   "mimetype": "text/x-python",
   "name": "python",
   "nbconvert_exporter": "python",
   "pygments_lexer": "ipython3",
   "version": "3.8.2"
  },
  "orig_nbformat": 4,
  "vscode": {
   "interpreter": {
    "hash": "9650cb4e16cdd4a8e8e2d128bf38d875813998db22a3c986335f89e0cb4d7bb2"
   }
  }
 },
 "nbformat": 4,
 "nbformat_minor": 2
}
