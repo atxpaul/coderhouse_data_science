{
 "cells": [
  {
   "cell_type": "markdown",
   "metadata": {},
   "source": [
    "# Entrega 19: Feature selection, entrenamiento de datos y cálculo de métricas para validar el modelo"
   ]
  },
  {
   "cell_type": "code",
   "execution_count": 68,
   "metadata": {},
   "outputs": [],
   "source": [
    "#Importaciones\n",
    "import warnings\n",
    "warnings.filterwarnings('ignore')\n",
    "import pandas as pd\n",
    "import numpy as np\n",
    "import matplotlib.pyplot as plt\n",
    "%matplotlib inline\n",
    "import seaborn as sns"
   ]
  },
  {
   "cell_type": "markdown",
   "metadata": {},
   "source": [
    "## Lectura dataset \"healthcare-dataset-stroke-data.csv\""
   ]
  },
  {
   "cell_type": "code",
   "execution_count": 69,
   "metadata": {},
   "outputs": [
    {
     "data": {
      "text/html": [
       "<div>\n",
       "<style scoped>\n",
       "    .dataframe tbody tr th:only-of-type {\n",
       "        vertical-align: middle;\n",
       "    }\n",
       "\n",
       "    .dataframe tbody tr th {\n",
       "        vertical-align: top;\n",
       "    }\n",
       "\n",
       "    .dataframe thead th {\n",
       "        text-align: right;\n",
       "    }\n",
       "</style>\n",
       "<table border=\"1\" class=\"dataframe\">\n",
       "  <thead>\n",
       "    <tr style=\"text-align: right;\">\n",
       "      <th></th>\n",
       "      <th>id</th>\n",
       "      <th>gender</th>\n",
       "      <th>age</th>\n",
       "      <th>hypertension</th>\n",
       "      <th>heart_disease</th>\n",
       "      <th>ever_married</th>\n",
       "      <th>work_type</th>\n",
       "      <th>Residence_type</th>\n",
       "      <th>avg_glucose_level</th>\n",
       "      <th>bmi</th>\n",
       "      <th>smoking_status</th>\n",
       "      <th>stroke</th>\n",
       "    </tr>\n",
       "  </thead>\n",
       "  <tbody>\n",
       "    <tr>\n",
       "      <th>0</th>\n",
       "      <td>9046</td>\n",
       "      <td>1</td>\n",
       "      <td>67</td>\n",
       "      <td>0</td>\n",
       "      <td>1</td>\n",
       "      <td>1</td>\n",
       "      <td>1</td>\n",
       "      <td>1</td>\n",
       "      <td>228.69</td>\n",
       "      <td>36.600000</td>\n",
       "      <td>2</td>\n",
       "      <td>1</td>\n",
       "    </tr>\n",
       "    <tr>\n",
       "      <th>1</th>\n",
       "      <td>51676</td>\n",
       "      <td>0</td>\n",
       "      <td>61</td>\n",
       "      <td>0</td>\n",
       "      <td>0</td>\n",
       "      <td>1</td>\n",
       "      <td>2</td>\n",
       "      <td>0</td>\n",
       "      <td>202.21</td>\n",
       "      <td>28.893237</td>\n",
       "      <td>0</td>\n",
       "      <td>1</td>\n",
       "    </tr>\n",
       "    <tr>\n",
       "      <th>2</th>\n",
       "      <td>31112</td>\n",
       "      <td>1</td>\n",
       "      <td>80</td>\n",
       "      <td>0</td>\n",
       "      <td>1</td>\n",
       "      <td>1</td>\n",
       "      <td>1</td>\n",
       "      <td>0</td>\n",
       "      <td>105.92</td>\n",
       "      <td>32.500000</td>\n",
       "      <td>0</td>\n",
       "      <td>1</td>\n",
       "    </tr>\n",
       "    <tr>\n",
       "      <th>3</th>\n",
       "      <td>60182</td>\n",
       "      <td>0</td>\n",
       "      <td>49</td>\n",
       "      <td>0</td>\n",
       "      <td>0</td>\n",
       "      <td>1</td>\n",
       "      <td>1</td>\n",
       "      <td>1</td>\n",
       "      <td>171.23</td>\n",
       "      <td>34.400000</td>\n",
       "      <td>1</td>\n",
       "      <td>1</td>\n",
       "    </tr>\n",
       "    <tr>\n",
       "      <th>4</th>\n",
       "      <td>1665</td>\n",
       "      <td>0</td>\n",
       "      <td>79</td>\n",
       "      <td>1</td>\n",
       "      <td>0</td>\n",
       "      <td>1</td>\n",
       "      <td>2</td>\n",
       "      <td>0</td>\n",
       "      <td>174.12</td>\n",
       "      <td>24.000000</td>\n",
       "      <td>0</td>\n",
       "      <td>1</td>\n",
       "    </tr>\n",
       "    <tr>\n",
       "      <th>...</th>\n",
       "      <td>...</td>\n",
       "      <td>...</td>\n",
       "      <td>...</td>\n",
       "      <td>...</td>\n",
       "      <td>...</td>\n",
       "      <td>...</td>\n",
       "      <td>...</td>\n",
       "      <td>...</td>\n",
       "      <td>...</td>\n",
       "      <td>...</td>\n",
       "      <td>...</td>\n",
       "      <td>...</td>\n",
       "    </tr>\n",
       "    <tr>\n",
       "      <th>5105</th>\n",
       "      <td>18234</td>\n",
       "      <td>0</td>\n",
       "      <td>80</td>\n",
       "      <td>1</td>\n",
       "      <td>0</td>\n",
       "      <td>1</td>\n",
       "      <td>1</td>\n",
       "      <td>1</td>\n",
       "      <td>83.75</td>\n",
       "      <td>28.893237</td>\n",
       "      <td>0</td>\n",
       "      <td>0</td>\n",
       "    </tr>\n",
       "    <tr>\n",
       "      <th>5106</th>\n",
       "      <td>44873</td>\n",
       "      <td>0</td>\n",
       "      <td>81</td>\n",
       "      <td>0</td>\n",
       "      <td>0</td>\n",
       "      <td>1</td>\n",
       "      <td>2</td>\n",
       "      <td>1</td>\n",
       "      <td>125.20</td>\n",
       "      <td>40.000000</td>\n",
       "      <td>0</td>\n",
       "      <td>0</td>\n",
       "    </tr>\n",
       "    <tr>\n",
       "      <th>5107</th>\n",
       "      <td>19723</td>\n",
       "      <td>0</td>\n",
       "      <td>35</td>\n",
       "      <td>0</td>\n",
       "      <td>0</td>\n",
       "      <td>1</td>\n",
       "      <td>2</td>\n",
       "      <td>0</td>\n",
       "      <td>82.99</td>\n",
       "      <td>30.600000</td>\n",
       "      <td>0</td>\n",
       "      <td>0</td>\n",
       "    </tr>\n",
       "    <tr>\n",
       "      <th>5108</th>\n",
       "      <td>37544</td>\n",
       "      <td>1</td>\n",
       "      <td>51</td>\n",
       "      <td>0</td>\n",
       "      <td>0</td>\n",
       "      <td>1</td>\n",
       "      <td>1</td>\n",
       "      <td>0</td>\n",
       "      <td>166.29</td>\n",
       "      <td>25.600000</td>\n",
       "      <td>2</td>\n",
       "      <td>0</td>\n",
       "    </tr>\n",
       "    <tr>\n",
       "      <th>5109</th>\n",
       "      <td>44679</td>\n",
       "      <td>0</td>\n",
       "      <td>44</td>\n",
       "      <td>0</td>\n",
       "      <td>0</td>\n",
       "      <td>1</td>\n",
       "      <td>3</td>\n",
       "      <td>1</td>\n",
       "      <td>85.28</td>\n",
       "      <td>26.200000</td>\n",
       "      <td>3</td>\n",
       "      <td>0</td>\n",
       "    </tr>\n",
       "  </tbody>\n",
       "</table>\n",
       "<p>5110 rows × 12 columns</p>\n",
       "</div>"
      ],
      "text/plain": [
       "         id  gender  age  hypertension  heart_disease  ever_married  \\\n",
       "0      9046       1   67             0              1             1   \n",
       "1     51676       0   61             0              0             1   \n",
       "2     31112       1   80             0              1             1   \n",
       "3     60182       0   49             0              0             1   \n",
       "4      1665       0   79             1              0             1   \n",
       "...     ...     ...  ...           ...            ...           ...   \n",
       "5105  18234       0   80             1              0             1   \n",
       "5106  44873       0   81             0              0             1   \n",
       "5107  19723       0   35             0              0             1   \n",
       "5108  37544       1   51             0              0             1   \n",
       "5109  44679       0   44             0              0             1   \n",
       "\n",
       "      work_type  Residence_type  avg_glucose_level        bmi  smoking_status  \\\n",
       "0             1               1             228.69  36.600000               2   \n",
       "1             2               0             202.21  28.893237               0   \n",
       "2             1               0             105.92  32.500000               0   \n",
       "3             1               1             171.23  34.400000               1   \n",
       "4             2               0             174.12  24.000000               0   \n",
       "...         ...             ...                ...        ...             ...   \n",
       "5105          1               1              83.75  28.893237               0   \n",
       "5106          2               1             125.20  40.000000               0   \n",
       "5107          2               0              82.99  30.600000               0   \n",
       "5108          1               0             166.29  25.600000               2   \n",
       "5109          3               1              85.28  26.200000               3   \n",
       "\n",
       "      stroke  \n",
       "0          1  \n",
       "1          1  \n",
       "2          1  \n",
       "3          1  \n",
       "4          1  \n",
       "...      ...  \n",
       "5105       0  \n",
       "5106       0  \n",
       "5107       0  \n",
       "5108       0  \n",
       "5109       0  \n",
       "\n",
       "[5110 rows x 12 columns]"
      ]
     },
     "metadata": {},
     "output_type": "display_data"
    }
   ],
   "source": [
    "#Leemos dataset descargado desde aquí: https://gist.github.com/aishwarya8615/d2107f828d3f904839cbcb7eaa85bd04#file-healthcare-dataset-stroke-data-csv\n",
    "df_stroke = pd.read_csv('datasets/healthcare-dataset-stroke-data.csv')\n",
    "df_stroke['age']=df_stroke['age'].round(0).astype(int)\n",
    "\n",
    "\n",
    "\n",
    "#Reemplazamos nulos\n",
    "df_stroke.fillna(df_stroke.mean(),inplace=True)\n",
    "df_stroke.isnull().values.any()\n",
    "df_stroke.isnull().sum\n",
    "\n",
    "#Cambiamos valores string por numéricos\n",
    "df_stroke['gender'] = df_stroke['gender'].replace('Female',0)\n",
    "df_stroke['gender'] = df_stroke['gender'].replace('Male',1)\n",
    "df_stroke['gender'] = df_stroke['gender'].replace('Other',0)\n",
    "\n",
    "df_stroke['ever_married'] = df_stroke['ever_married'].replace('Yes',1)\n",
    "df_stroke['ever_married'] = df_stroke['ever_married'].replace('No',0)\n",
    "\n",
    "df_stroke['work_type'] = df_stroke['work_type'].replace('Never_worked',0)\n",
    "df_stroke['work_type'] = df_stroke['work_type'].replace('Private',1)\n",
    "df_stroke['work_type'] = df_stroke['work_type'].replace('Self-employed',2)\n",
    "df_stroke['work_type'] = df_stroke['work_type'].replace('Govt_job',3)\n",
    "df_stroke['work_type'] = df_stroke['work_type'].replace('children',4)\n",
    "\n",
    "df_stroke['Residence_type'] = df_stroke['Residence_type'].replace('Urban',1)\n",
    "df_stroke['Residence_type'] = df_stroke['Residence_type'].replace('Rural',0)\n",
    "\n",
    "df_stroke['smoking_status'] = df_stroke['smoking_status'].replace('never smoked',0)\n",
    "df_stroke['smoking_status'] = df_stroke['smoking_status'].replace('smokes',1)\n",
    "df_stroke['smoking_status'] = df_stroke['smoking_status'].replace('formerly smoked',2)\n",
    "df_stroke['smoking_status'] = df_stroke['smoking_status'].replace('Unknown',3)\n",
    "display(df_stroke)"
   ]
  },
  {
   "cell_type": "markdown",
   "metadata": {},
   "source": [
    "Preparamos los datos en una matriz con las features y en otra sólo con el target"
   ]
  },
  {
   "cell_type": "code",
   "execution_count": 70,
   "metadata": {},
   "outputs": [],
   "source": [
    "df_test=df_stroke.copy()\n",
    "X = df_test.drop([\"stroke\",\"id\"],1) #Matriz con las features\n",
    "y = df_test['stroke'] #Matriz sólo con el target"
   ]
  },
  {
   "cell_type": "markdown",
   "metadata": {},
   "source": [
    "## Forward Selection"
   ]
  },
  {
   "cell_type": "markdown",
   "metadata": {},
   "source": [
    "Nos decantamos por el método forward selection."
   ]
  },
  {
   "cell_type": "code",
   "execution_count": null,
   "metadata": {},
   "outputs": [],
   "source": [
    "%pip install joblib\n",
    "%pip install mlxtend\n",
    "%pip install sklearn"
   ]
  },
  {
   "cell_type": "code",
   "execution_count": 72,
   "metadata": {},
   "outputs": [],
   "source": [
    "import sys\n",
    "import joblib\n",
    "sys.modules['sklearn.externals.joblib'] = joblib"
   ]
  },
  {
   "cell_type": "code",
   "execution_count": 73,
   "metadata": {},
   "outputs": [
    {
     "data": {
      "text/plain": [
       "('gender', 'age', 'hypertension', 'heart_disease', 'ever_married', 'work_type')"
      ]
     },
     "execution_count": 73,
     "metadata": {},
     "output_type": "execute_result"
    }
   ],
   "source": [
    "#Librerias\n",
    "from mlxtend.feature_selection import SequentialFeatureSelector as SFS\n",
    "from sklearn.linear_model import LinearRegression\n",
    "# Sequential Forward Selection(sfs)\n",
    "sfs = SFS(LinearRegression(),\n",
    "          k_features=6,\n",
    "          forward=True,\n",
    "          floating=False,\n",
    "          scoring = 'r2',\n",
    "          cv = 2)\n",
    "\n",
    "sfs.fit(X, y)\n",
    "sfs.k_feature_names_     #Lista final de features"
   ]
  },
  {
   "cell_type": "code",
   "execution_count": 74,
   "metadata": {},
   "outputs": [],
   "source": [
    "# Creamos las features con las columnas que nos sugiere este algoritmo\n",
    "\n",
    "X = X[['age','hypertension','heart_disease','ever_married','avg_glucose_level','bmi']]"
   ]
  },
  {
   "cell_type": "markdown",
   "metadata": {},
   "source": [
    "De este método se saca que los campos relevantes para el cálculo del modelo son 6: Edad, hipertensión, enfermedad cardíaca previa, si está casado, la media de glucosa y el índice de masa corporal"
   ]
  },
  {
   "cell_type": "markdown",
   "metadata": {},
   "source": [
    "## Entrenamiento, validación y test datasets"
   ]
  },
  {
   "cell_type": "code",
   "execution_count": 75,
   "metadata": {},
   "outputs": [],
   "source": [
    "from sklearn.preprocessing import StandardScaler\n",
    "from imblearn.over_sampling import RandomOverSampler"
   ]
  },
  {
   "cell_type": "code",
   "execution_count": 76,
   "metadata": {},
   "outputs": [],
   "source": [
    "train, test = np.split(df_stroke.sample(frac=1),[int(0.8*len(df_stroke))])"
   ]
  },
  {
   "cell_type": "code",
   "execution_count": 77,
   "metadata": {},
   "outputs": [],
   "source": [
    "def scale_dataset (dataframe, oversample=False):\n",
    "  dataframe = dataframe[['age','hypertension','heart_disease','ever_married','avg_glucose_level','bmi','stroke']]\n",
    "  x = dataframe.drop([\"stroke\"],1).values\n",
    "  x = dataframe[dataframe.columns[:-1]].values\n",
    "  y = dataframe['stroke'].values\n",
    "\n",
    "  scaler = StandardScaler()\n",
    "  x = scaler.fit_transform(x)\n",
    "\n",
    "  if oversample:\n",
    "    ros = RandomOverSampler()\n",
    "    x, y = ros.fit_resample(x, y)\n",
    "\n",
    "  data = np.hstack((x, np.reshape(y, (-1, 1))))\n",
    "\n",
    "  return data, x, y"
   ]
  },
  {
   "cell_type": "code",
   "execution_count": 78,
   "metadata": {},
   "outputs": [],
   "source": [
    "train, x_train, y_train = scale_dataset (train, oversample=True)\n",
    "test, x_test, y_test = scale_dataset (test, oversample=False)"
   ]
  },
  {
   "cell_type": "markdown",
   "metadata": {},
   "source": [
    "## Métricas"
   ]
  },
  {
   "cell_type": "code",
   "execution_count": 79,
   "metadata": {},
   "outputs": [],
   "source": [
    "from sklearn import neighbors\n",
    "from sklearn.ensemble import RandomForestClassifier\n",
    "from sklearn.tree import DecisionTreeClassifier \n",
    "from sklearn import metrics\n",
    "import pandas as pd\n",
    "import numpy as np\n",
    "from matplotlib import pyplot as plt\n",
    "import seaborn as sns\n",
    "sns.set_style('whitegrid')"
   ]
  },
  {
   "cell_type": "markdown",
   "metadata": {},
   "source": [
    "Utilizamos el modelo KNN. Se detalla el análisis por modelo en la entrega extra"
   ]
  },
  {
   "cell_type": "code",
   "execution_count": 80,
   "metadata": {},
   "outputs": [],
   "source": [
    "# Creamos un modelo KNN con parametros por defecto\n",
    "modelo = neighbors.KNeighborsClassifier(n_neighbors=2) \n",
    "modelo.fit(x_train, y_train)\n",
    "# Obtenemos las predicciones del modelo con X_test\n",
    "preds = modelo.predict(x_test) "
   ]
  },
  {
   "cell_type": "code",
   "execution_count": 87,
   "metadata": {},
   "outputs": [
    {
     "data": {
      "text/plain": [
       "<Figure size 2000x1200 with 0 Axes>"
      ]
     },
     "metadata": {},
     "output_type": "display_data"
    },
    {
     "data": {
      "image/png": "[encoded data removed]",
      "text/plain": [
       "<Figure size 640x480 with 2 Axes>"
      ]
     },
     "metadata": {},
     "output_type": "display_data"
    }
   ],
   "source": [
    "plt.figure(figsize=(20,12));\n",
    "metrics.plot_confusion_matrix(modelo, x_test, y_test, display_labels=['NO Stroke', 'Stroke']);"
   ]
  },
  {
   "cell_type": "code",
   "execution_count": 82,
   "metadata": {},
   "outputs": [
    {
     "data": {
      "text/plain": [
       "0.923679060665362"
      ]
     },
     "execution_count": 82,
     "metadata": {},
     "output_type": "execute_result"
    }
   ],
   "source": [
    "confusion = metrics.confusion_matrix(y_test, preds)\n",
    "confusion.ravel()\n",
    "accuracy = metrics.accuracy_score(y_test, preds)\n",
    "accuracy "
   ]
  },
  {
   "cell_type": "code",
   "execution_count": 83,
   "metadata": {},
   "outputs": [
    {
     "data": {
      "text/plain": [
       "(0.16, 0.9629629629629629)"
      ]
     },
     "execution_count": 83,
     "metadata": {},
     "output_type": "execute_result"
    }
   ],
   "source": [
    "# Precision se evalua para cada categoria\n",
    "precision_positiva = metrics.precision_score(y_test, preds, pos_label=1)\n",
    "precision_negativa = metrics.precision_score(y_test, preds, pos_label=0)\n",
    "precision_positiva, precision_negativa "
   ]
  },
  {
   "cell_type": "code",
   "execution_count": 84,
   "metadata": {},
   "outputs": [
    {
     "data": {
      "text/plain": [
       "(0.18181818181818182, 0.9570552147239264)"
      ]
     },
     "execution_count": 84,
     "metadata": {},
     "output_type": "execute_result"
    }
   ],
   "source": [
    "recall_sensibilidad = metrics.recall_score(y_test, preds, pos_label=1)\n",
    "recall_especificidad= metrics.recall_score(y_test, preds, pos_label=0)\n",
    "recall_sensibilidad, recall_especificidad"
   ]
  },
  {
   "cell_type": "code",
   "execution_count": 85,
   "metadata": {},
   "outputs": [
    {
     "data": {
      "text/plain": [
       "(0.1702127659574468, 0.9599999999999999)"
      ]
     },
     "execution_count": 85,
     "metadata": {},
     "output_type": "execute_result"
    }
   ],
   "source": [
    "f1_positivo = metrics.f1_score(y_test, preds, pos_label=1)\n",
    "f1_negativo = metrics.f1_score(y_test, preds, pos_label=0)\n",
    "f1_positivo, f1_negativo "
   ]
  },
  {
   "cell_type": "code",
   "execution_count": 86,
   "metadata": {},
   "outputs": [
    {
     "name": "stdout",
     "output_type": "stream",
     "text": [
      "              precision    recall  f1-score   support\n",
      "\n",
      "           0       0.96      0.96      0.96       978\n",
      "           1       0.16      0.18      0.17        44\n",
      "\n",
      "    accuracy                           0.92      1022\n",
      "   macro avg       0.56      0.57      0.57      1022\n",
      "weighted avg       0.93      0.92      0.93      1022\n",
      "\n"
     ]
    }
   ],
   "source": [
    "# Todas las metricas en uno\n",
    "print(metrics.classification_report(y_test, preds))"
   ]
  },
  {
   "cell_type": "markdown",
   "metadata": {},
   "source": [
    "## Conclusiones\n",
    "\n",
    "Con los parámetros que hemos usado es casi imposible obtener un dato concluyente.\n",
    "\n",
    "Se han seguido los siguientes procesos:\n",
    "\n",
    "- Manipulación del dataset cambiando los valores alfanuméricos por integers.\n",
    "- Se utiliza forward selection para obtener las variables.\n",
    "- Con estas variables, se generan datasets para entrenamiento y para el testeo. Estos datasets están oversampleados para intentar tener más valores de cada tipo de target.\n",
    "- Se utiliza el modelo KNN.\n",
    "\n",
    "Los datos que arroja el modelo nos dan un 16% de precisión a la hora de detectar un posible paciente que padecerá un ataque al corazón. Con estos resultados es imposible preveer nada correctamente. ¿Tendremos que usar otros modelos? En la entrega complementaria se hace un análisis de cada uno de ellos.\n"
   ]
  }
 ],
 "metadata": {
  "kernelspec": {
   "display_name": "Python 3.8.2 64-bit",
   "language": "python",
   "name": "python3"
  },
  "language_info": {
   "codemirror_mode": {
    "name": "ipython",
    "version": 3
   },
   "file_extension": ".py",
   "mimetype": "text/x-python",
   "name": "python",
   "nbconvert_exporter": "python",
   "pygments_lexer": "ipython3",
   "version": "3.8.2"
  },
  "orig_nbformat": 4,
  "vscode": {
   "interpreter": {
    "hash": "9650cb4e16cdd4a8e8e2d128bf38d875813998db22a3c986335f89e0cb4d7bb2"
   }
  }
 },
 "nbformat": 4,
 "nbformat_minor": 2
}
